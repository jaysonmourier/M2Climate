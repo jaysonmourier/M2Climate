{
 "cells": [
  {
   "cell_type": "code",
   "execution_count": 1,
   "metadata": {},
   "outputs": [],
   "source": [
    "import matplotlib.pyplot as plt\n",
    "import pandas as pd"
   ]
  },
  {
   "cell_type": "code",
   "execution_count": 2,
   "metadata": {},
   "outputs": [
    {
     "data": {
      "text/html": [
       "<div>\n",
       "<style scoped>\n",
       "    .dataframe tbody tr th:only-of-type {\n",
       "        vertical-align: middle;\n",
       "    }\n",
       "\n",
       "    .dataframe tbody tr th {\n",
       "        vertical-align: top;\n",
       "    }\n",
       "\n",
       "    .dataframe thead th {\n",
       "        text-align: right;\n",
       "    }\n",
       "</style>\n",
       "<table border=\"1\" class=\"dataframe\">\n",
       "  <thead>\n",
       "    <tr style=\"text-align: right;\">\n",
       "      <th></th>\n",
       "      <th>Entity</th>\n",
       "      <th>Code</th>\n",
       "      <th>Year</th>\n",
       "      <th>cum_co2_em</th>\n",
       "    </tr>\n",
       "  </thead>\n",
       "  <tbody>\n",
       "    <tr>\n",
       "      <th>0</th>\n",
       "      <td>Afghanistan</td>\n",
       "      <td>AFG</td>\n",
       "      <td>1949</td>\n",
       "      <td>14656.0</td>\n",
       "    </tr>\n",
       "    <tr>\n",
       "      <th>1</th>\n",
       "      <td>Afghanistan</td>\n",
       "      <td>AFG</td>\n",
       "      <td>1950</td>\n",
       "      <td>98928.0</td>\n",
       "    </tr>\n",
       "    <tr>\n",
       "      <th>2</th>\n",
       "      <td>Afghanistan</td>\n",
       "      <td>AFG</td>\n",
       "      <td>1951</td>\n",
       "      <td>190528.0</td>\n",
       "    </tr>\n",
       "    <tr>\n",
       "      <th>3</th>\n",
       "      <td>Afghanistan</td>\n",
       "      <td>AFG</td>\n",
       "      <td>1952</td>\n",
       "      <td>282128.0</td>\n",
       "    </tr>\n",
       "    <tr>\n",
       "      <th>4</th>\n",
       "      <td>Afghanistan</td>\n",
       "      <td>AFG</td>\n",
       "      <td>1953</td>\n",
       "      <td>388384.0</td>\n",
       "    </tr>\n",
       "  </tbody>\n",
       "</table>\n",
       "</div>"
      ],
      "text/plain": [
       "        Entity Code  Year  cum_co2_em\n",
       "0  Afghanistan  AFG  1949     14656.0\n",
       "1  Afghanistan  AFG  1950     98928.0\n",
       "2  Afghanistan  AFG  1951    190528.0\n",
       "3  Afghanistan  AFG  1952    282128.0\n",
       "4  Afghanistan  AFG  1953    388384.0"
      ]
     },
     "execution_count": 2,
     "metadata": {},
     "output_type": "execute_result"
    }
   ],
   "source": [
    "df = pd.read_csv('data/cumulative-co-emissions.csv')\n",
    "df.head()"
   ]
  },
  {
   "cell_type": "code",
   "execution_count": null,
   "metadata": {},
   "outputs": [],
   "source": [
    "# Keep only after 1900\n",
    "df = df[df['Year'] >= 1900]"
   ]
  },
  {
   "cell_type": "code",
   "execution_count": null,
   "metadata": {},
   "outputs": [],
   "source": [
    "# select Britain\n",
    "UK = df[df['Entity'] == 'United Kingdom']\n",
    "FR = df[df['Entity'] == 'France']\n",
    "USA = df[df['Entity'] == 'United States of America']\n",
    "CHN = df[df['Entity'] == 'China']\n",
    "IND = df[df['Entity'] == 'India']\n",
    "RUS = df[df['Entity'] == 'Russia']\n",
    "JPN = df[df['Entity'] == 'Japan']"
   ]
  },
  {
   "cell_type": "code",
   "execution_count": null,
   "metadata": {},
   "outputs": [],
   "source": [
    "# plot Cumulative CO2 emissions\n",
    "plt.plot(UK['Year'], UK['cum_co2_em'])\n",
    "plt.plot(FR['Year'], FR['cum_co2_em'])\n",
    "plt.plot(USA['Year'], USA['cum_co2_em'])\n",
    "plt.plot(CHN['Year'], CHN['cum_co2_em'])\n",
    "plt.plot(IND['Year'], IND['cum_co2_em'])\n",
    "plt.plot(RUS['Year'], RUS['cum_co2_em'])\n",
    "plt.plot(JPN['Year'], JPN['cum_co2_em'])\n",
    "plt.xlabel('Year')\n",
    "plt.ylabel('Émission cumulée de CO2 (tonnes)')\n",
    "plt.title('Émission cumulée de CO2 par pays')\n",
    "plt.legend(['UK', 'FR', 'USA', 'CHINA', 'INDIA', 'RUSSIA', 'JAPAN'])\n",
    "plt.show()"
   ]
  },
  {
   "cell_type": "code",
   "execution_count": null,
   "metadata": {},
   "outputs": [],
   "source": [
    "# compute derivative\n",
    "UK['derivative'] = UK['cum_co2_em'].diff()\n",
    "FR['derivative'] = FR['cum_co2_em'].diff()\n",
    "USA['derivative'] = USA['cum_co2_em'].diff()\n",
    "CHN['derivative'] = CHN['cum_co2_em'].diff()\n",
    "IND['derivative'] = IND['cum_co2_em'].diff()\n",
    "RUS['derivative'] = RUS['cum_co2_em'].diff()\n",
    "JPN['derivative'] = JPN['cum_co2_em'].diff()\n",
    "\n",
    "# plot\n",
    "plt.plot(UK['Year'], UK['derivative'])\n",
    "plt.plot(FR['Year'], FR['derivative'])\n",
    "plt.plot(USA['Year'], USA['derivative'])\n",
    "plt.plot(CHN['Year'], CHN['derivative'])\n",
    "plt.plot(IND['Year'], IND['derivative'])\n",
    "plt.plot(RUS['Year'], RUS['derivative'])\n",
    "plt.plot(JPN['Year'], JPN['derivative'])\n",
    "plt.xlabel('Year')\n",
    "plt.ylabel('Taux de variation (tonnes/année)')\n",
    "plt.title('Variation annuelle des émissions cumulées de CO2 au Royaume-Uni/FR/USA/CHN/IND/RUS/JPN')\n",
    "plt.legend(['UK', 'FR', 'USA', 'CHINA', 'INDIA', 'RUSSIA', 'JAPAN'])\n",
    "plt.show()"
   ]
  },
  {
   "cell_type": "code",
   "execution_count": null,
   "metadata": {},
   "outputs": [],
   "source": [
    "df = pd.read_csv('data/cumulative-co-emissions.csv')\n",
    "df.tail()"
   ]
  },
  {
   "cell_type": "code",
   "execution_count": null,
   "metadata": {},
   "outputs": [],
   "source": [
    "df = df.drop_duplicates(subset=['Country', 'dt'], keep='first')"
   ]
  },
  {
   "cell_type": "code",
   "execution_count": null,
   "metadata": {},
   "outputs": [],
   "source": [
    "a= df[df['Country'] == 'Congo']\n",
    "a[a['dt'] == '2013-09-01']"
   ]
  },
  {
   "cell_type": "code",
   "execution_count": null,
   "metadata": {},
   "outputs": [],
   "source": [
    "# show congo\n",
    "congo = df[df['Country'] == 'Congo']\n",
    "congo"
   ]
  },
  {
   "cell_type": "code",
   "execution_count": 3,
   "metadata": {},
   "outputs": [
    {
     "ename": "KeyError",
     "evalue": "'dt'",
     "output_type": "error",
     "traceback": [
      "\u001b[0;31m---------------------------------------------------------------------------\u001b[0m",
      "\u001b[0;31mKeyError\u001b[0m                                  Traceback (most recent call last)",
      "File \u001b[0;32m~/Documents/miage/M2/climate/.climate/lib/python3.9/site-packages/pandas/core/indexes/base.py:3805\u001b[0m, in \u001b[0;36mIndex.get_loc\u001b[0;34m(self, key)\u001b[0m\n\u001b[1;32m   3804\u001b[0m \u001b[38;5;28;01mtry\u001b[39;00m:\n\u001b[0;32m-> 3805\u001b[0m     \u001b[38;5;28;01mreturn\u001b[39;00m \u001b[38;5;28;43mself\u001b[39;49m\u001b[38;5;241;43m.\u001b[39;49m\u001b[43m_engine\u001b[49m\u001b[38;5;241;43m.\u001b[39;49m\u001b[43mget_loc\u001b[49m\u001b[43m(\u001b[49m\u001b[43mcasted_key\u001b[49m\u001b[43m)\u001b[49m\n\u001b[1;32m   3806\u001b[0m \u001b[38;5;28;01mexcept\u001b[39;00m \u001b[38;5;167;01mKeyError\u001b[39;00m \u001b[38;5;28;01mas\u001b[39;00m err:\n",
      "File \u001b[0;32mindex.pyx:167\u001b[0m, in \u001b[0;36mpandas._libs.index.IndexEngine.get_loc\u001b[0;34m()\u001b[0m\n",
      "File \u001b[0;32mindex.pyx:196\u001b[0m, in \u001b[0;36mpandas._libs.index.IndexEngine.get_loc\u001b[0;34m()\u001b[0m\n",
      "File \u001b[0;32mpandas/_libs/hashtable_class_helper.pxi:7081\u001b[0m, in \u001b[0;36mpandas._libs.hashtable.PyObjectHashTable.get_item\u001b[0;34m()\u001b[0m\n",
      "File \u001b[0;32mpandas/_libs/hashtable_class_helper.pxi:7089\u001b[0m, in \u001b[0;36mpandas._libs.hashtable.PyObjectHashTable.get_item\u001b[0;34m()\u001b[0m\n",
      "\u001b[0;31mKeyError\u001b[0m: 'dt'",
      "\nThe above exception was the direct cause of the following exception:\n",
      "\u001b[0;31mKeyError\u001b[0m                                  Traceback (most recent call last)",
      "Cell \u001b[0;32mIn[3], line 2\u001b[0m\n\u001b[1;32m      1\u001b[0m \u001b[38;5;66;03m# Convertir la colonne 'dt' en datetime\u001b[39;00m\n\u001b[0;32m----> 2\u001b[0m df[\u001b[38;5;124m'\u001b[39m\u001b[38;5;124mdt\u001b[39m\u001b[38;5;124m'\u001b[39m] \u001b[38;5;241m=\u001b[39m pd\u001b[38;5;241m.\u001b[39mto_datetime(\u001b[43mdf\u001b[49m\u001b[43m[\u001b[49m\u001b[38;5;124;43m'\u001b[39;49m\u001b[38;5;124;43mdt\u001b[39;49m\u001b[38;5;124;43m'\u001b[39;49m\u001b[43m]\u001b[49m)\n\u001b[1;32m      4\u001b[0m \u001b[38;5;66;03m# Créer les colonnes 'year', 'month', 'day'\u001b[39;00m\n\u001b[1;32m      5\u001b[0m df[\u001b[38;5;124m'\u001b[39m\u001b[38;5;124myear\u001b[39m\u001b[38;5;124m'\u001b[39m] \u001b[38;5;241m=\u001b[39m df[\u001b[38;5;124m'\u001b[39m\u001b[38;5;124mdt\u001b[39m\u001b[38;5;124m'\u001b[39m]\u001b[38;5;241m.\u001b[39mdt\u001b[38;5;241m.\u001b[39myear\n",
      "File \u001b[0;32m~/Documents/miage/M2/climate/.climate/lib/python3.9/site-packages/pandas/core/frame.py:4090\u001b[0m, in \u001b[0;36mDataFrame.__getitem__\u001b[0;34m(self, key)\u001b[0m\n\u001b[1;32m   4088\u001b[0m \u001b[38;5;28;01mif\u001b[39;00m \u001b[38;5;28mself\u001b[39m\u001b[38;5;241m.\u001b[39mcolumns\u001b[38;5;241m.\u001b[39mnlevels \u001b[38;5;241m>\u001b[39m \u001b[38;5;241m1\u001b[39m:\n\u001b[1;32m   4089\u001b[0m     \u001b[38;5;28;01mreturn\u001b[39;00m \u001b[38;5;28mself\u001b[39m\u001b[38;5;241m.\u001b[39m_getitem_multilevel(key)\n\u001b[0;32m-> 4090\u001b[0m indexer \u001b[38;5;241m=\u001b[39m \u001b[38;5;28;43mself\u001b[39;49m\u001b[38;5;241;43m.\u001b[39;49m\u001b[43mcolumns\u001b[49m\u001b[38;5;241;43m.\u001b[39;49m\u001b[43mget_loc\u001b[49m\u001b[43m(\u001b[49m\u001b[43mkey\u001b[49m\u001b[43m)\u001b[49m\n\u001b[1;32m   4091\u001b[0m \u001b[38;5;28;01mif\u001b[39;00m is_integer(indexer):\n\u001b[1;32m   4092\u001b[0m     indexer \u001b[38;5;241m=\u001b[39m [indexer]\n",
      "File \u001b[0;32m~/Documents/miage/M2/climate/.climate/lib/python3.9/site-packages/pandas/core/indexes/base.py:3812\u001b[0m, in \u001b[0;36mIndex.get_loc\u001b[0;34m(self, key)\u001b[0m\n\u001b[1;32m   3807\u001b[0m     \u001b[38;5;28;01mif\u001b[39;00m \u001b[38;5;28misinstance\u001b[39m(casted_key, \u001b[38;5;28mslice\u001b[39m) \u001b[38;5;129;01mor\u001b[39;00m (\n\u001b[1;32m   3808\u001b[0m         \u001b[38;5;28misinstance\u001b[39m(casted_key, abc\u001b[38;5;241m.\u001b[39mIterable)\n\u001b[1;32m   3809\u001b[0m         \u001b[38;5;129;01mand\u001b[39;00m \u001b[38;5;28many\u001b[39m(\u001b[38;5;28misinstance\u001b[39m(x, \u001b[38;5;28mslice\u001b[39m) \u001b[38;5;28;01mfor\u001b[39;00m x \u001b[38;5;129;01min\u001b[39;00m casted_key)\n\u001b[1;32m   3810\u001b[0m     ):\n\u001b[1;32m   3811\u001b[0m         \u001b[38;5;28;01mraise\u001b[39;00m InvalidIndexError(key)\n\u001b[0;32m-> 3812\u001b[0m     \u001b[38;5;28;01mraise\u001b[39;00m \u001b[38;5;167;01mKeyError\u001b[39;00m(key) \u001b[38;5;28;01mfrom\u001b[39;00m \u001b[38;5;21;01merr\u001b[39;00m\n\u001b[1;32m   3813\u001b[0m \u001b[38;5;28;01mexcept\u001b[39;00m \u001b[38;5;167;01mTypeError\u001b[39;00m:\n\u001b[1;32m   3814\u001b[0m     \u001b[38;5;66;03m# If we have a listlike key, _check_indexing_error will raise\u001b[39;00m\n\u001b[1;32m   3815\u001b[0m     \u001b[38;5;66;03m#  InvalidIndexError. Otherwise we fall through and re-raise\u001b[39;00m\n\u001b[1;32m   3816\u001b[0m     \u001b[38;5;66;03m#  the TypeError.\u001b[39;00m\n\u001b[1;32m   3817\u001b[0m     \u001b[38;5;28mself\u001b[39m\u001b[38;5;241m.\u001b[39m_check_indexing_error(key)\n",
      "\u001b[0;31mKeyError\u001b[0m: 'dt'"
     ]
    }
   ],
   "source": [
    "# Convertir la colonne 'dt' en datetime\n",
    "df['dt'] = pd.to_datetime(df['dt'])\n",
    "\n",
    "# Créer les colonnes 'year', 'month', 'day'\n",
    "df['year'] = df['dt'].dt.year\n",
    "df['month'] = df['dt'].dt.month\n",
    "df['day'] = df['dt'].dt.day\n",
    "df.head()"
   ]
  },
  {
   "cell_type": "code",
   "execution_count": null,
   "metadata": {},
   "outputs": [],
   "source": [
    "# Filtre pour l'année 2000, le mois de janvier et le jour 1\n",
    "filtered_df = df[(df['Year'] == 2022)]\n",
    "\n",
    "# Afficher les résultats du filtre\n",
    "filtered_df.head()"
   ]
  },
  {
   "cell_type": "code",
   "execution_count": null,
   "metadata": {},
   "outputs": [],
   "source": [
    "import pandas as pd\n",
    "import geopandas as gpd\n",
    "import matplotlib.pyplot as plt\n",
    "\n",
    "# ... (votre code précédent pour charger les données)\n",
    "\n",
    " # Normalisation des données de CO2\n",
    "# min_co2 = df['cum_co2_em'].min()\n",
    "# max_co2 = df['cum_co2_em'].max()\n",
    "# df['normalized_co2'] = (df['cum_co2_em'] - min_co2) / (max_co2 - min_co2)\n",
    "\n",
    "mean_co2 = df['cum_co2_em'].mean()\n",
    "sd_co2 = df['cum_co2_em'].std()\n",
    "df['normalized_co2'] = (df['cum_co2_em'] - mean_co2) / sd_co2\n",
    "\n",
    "for i, year in enumerate(range(1900, 2021, 10)):\n",
    "    filtered_df = df[(df['Year'] == year)]\n",
    "    \n",
    "    world = gpd.read_file(gpd.datasets.get_path('naturalearth_lowres'))\n",
    "    world = world.merge(filtered_df, left_on='name', right_on='Entity', how='left')\n",
    "\n",
    "    fig, ax = plt.subplots(1, 1, figsize=(15, 10))\n",
    "    # Assurez-vous d'utiliser la nouvelle colonne normalisée pour le coloriage\n",
    "    world.plot(column='cum_co2_em', ax=ax, legend=True,\n",
    "               legend_kwds={'label': \"CO2 cumulées par pays (normalisées)\",\n",
    "                            'orientation': \"horizontal\"})\n",
    "    plt.title(f'CO2 emissions in {year}')\n",
    "    plt.savefig(f'images/co2_{year}.png')\n"
   ]
  },
  {
   "cell_type": "code",
   "execution_count": null,
   "metadata": {},
   "outputs": [],
   "source": [
    "# show congo from World\n",
    "c = world[world['name'] == 'Congo']\n",
    "c"
   ]
  },
  {
   "cell_type": "code",
   "execution_count": null,
   "metadata": {},
   "outputs": [],
   "source": [
    "A = filtered_df\n",
    "B = world"
   ]
  },
  {
   "cell_type": "code",
   "execution_count": null,
   "metadata": {},
   "outputs": [],
   "source": [
    "countries_in_B_not_in_A = B[~B['name'].isin(A['Entity'])]['name'].unique()\n",
    "print(countries_in_B_not_in_A)"
   ]
  },
  {
   "cell_type": "code",
   "execution_count": null,
   "metadata": {},
   "outputs": [],
   "source": [
    "# show Dominican Rep.\n",
    "dominican_rep = world[world['name'] == 'eSwatini']\n",
    "dominican_rep"
   ]
  },
  {
   "cell_type": "code",
   "execution_count": null,
   "metadata": {},
   "outputs": [],
   "source": [
    "filtered_df.head()"
   ]
  },
  {
   "cell_type": "code",
   "execution_count": null,
   "metadata": {},
   "outputs": [],
   "source": [
    "import seaborn as sns\n",
    "sns.set_theme(style=\"whitegrid\")\n",
    "\n",
    "# only France, USA and China\n",
    "filtered_df = df[(df['Entity'] == 'China') | (df['Entity'] == 'United States of America')]\n",
    "filtered_df.head()\n",
    "\n",
    "# Load the diamonds dataset\n",
    "# diamonds = sns.load_dataset(\"diamonds\")\n",
    "# diamonds.head()\n",
    "# Plot the distribution of clarity ratings, conditional on carat\n",
    "ax =sns.displot(\n",
    "    data=filtered_df,\n",
    "    x=\"cum_co2_em\", hue=\"Entity\",\n",
    "    kind=\"kde\", height=6,\n",
    "    multiple=\"fill\", clip=(0, None),\n",
    "    palette=\"ch:rot=-.25,hue=1,light=.75\",\n",
    ")\n",
    "ax.set_xlabels('Cumulative CO2 emissions (tonnes)')\n",
    "plt.show()"
   ]
  },
  {
   "cell_type": "code",
   "execution_count": null,
   "metadata": {},
   "outputs": [],
   "source": [
    "import plotly.express as px\n",
    "import pandas as pd\n",
    "\n",
    "df2 = df\n",
    "\n",
    "data_1982 = df2[df2['Year'] == 1982]\n",
    "\n",
    "fig = px.choropleth(data_1982,\n",
    "                    locations=\"Code\",\n",
    "                    color=\"cum_co2_em\",\n",
    "                    hover_name=\"Entity\",  # Nom du pays à afficher au survol\n",
    "                    color_continuous_scale=px.colors.sequential.Plasma,  # Échelle de couleurs\n",
    "                    title=\"Emissions annuelles de CO2 en 1982 par pays\")  # Titre de la carte\n",
    "\n",
    "fig.update_layout(geo=dict(showframe=False,  # Cache le cadre autour de la carte\n",
    "                           showcoastlines=True))  # Affiche les côtes\n",
    "\n",
    "fig.show()"
   ]
  },
  {
   "cell_type": "code",
   "execution_count": null,
   "metadata": {},
   "outputs": [],
   "source": [
    "df = pd.read_csv('data/GlobalLandTemperaturesByCountry.csv')\n",
    "df.head()"
   ]
  },
  {
   "cell_type": "code",
   "execution_count": null,
   "metadata": {},
   "outputs": [],
   "source": [
    "# Convertir la colonne 'dt' en datetime\n",
    "df['dt'] = pd.to_datetime(df['dt'])\n",
    "\n",
    "# Créer les colonnes 'year', 'month', 'day'\n",
    "df['year'] = df['dt'].dt.year\n",
    "df['month'] = df['dt'].dt.month\n",
    "df['day'] = df['dt'].dt.day\n",
    "df.head()"
   ]
  },
  {
   "cell_type": "code",
   "execution_count": null,
   "metadata": {},
   "outputs": [],
   "source": [
    "# keep only 01-01\n",
    "df = df[df['month'] == 1]\n",
    "df = df[df['day'] == 1]\n",
    "df.head()"
   ]
  },
  {
   "cell_type": "code",
   "execution_count": null,
   "metadata": {},
   "outputs": [],
   "source": [
    "# save \n",
    "df.to_csv('data/GlobalLandTemperaturesByCountry_01-01.csv', index=False)"
   ]
  },
  {
   "cell_type": "code",
   "execution_count": null,
   "metadata": {},
   "outputs": [],
   "source": [
    "# min temperature and max temperature\n",
    "min_temp = df['AverageTemperature'].min()\n",
    "max_temp = df['AverageTemperature'].max()\n",
    "print(min_temp, max_temp)"
   ]
  },
  {
   "cell_type": "code",
   "execution_count": null,
   "metadata": {},
   "outputs": [],
   "source": [
    "df2 = pd.read_csv('data/cumulative-co-emissions.csv')\n",
    "df2.head()"
   ]
  },
  {
   "cell_type": "code",
   "execution_count": null,
   "metadata": {},
   "outputs": [],
   "source": [
    "# merge by country name and dt\n",
    "df2 = df2.rename(columns={'Entity': 'Country'})\n",
    "df = df.merge(df2, on=['Country', 'year'], how='left')\n",
    "df.head()"
   ]
  },
  {
   "cell_type": "code",
   "execution_count": null,
   "metadata": {},
   "outputs": [],
   "source": [
    "# print France\n",
    "france = df[df['Country'] == 'Germany']\n",
    "france.tail()"
   ]
  },
  {
   "cell_type": "code",
   "execution_count": null,
   "metadata": {},
   "outputs": [],
   "source": [
    "# export\n",
    "df.to_csv('data/GlobalLandTemperaturesByCountry_01-01_co2.csv', index=False)"
   ]
  },
  {
   "cell_type": "code",
   "execution_count": null,
   "metadata": {},
   "outputs": [],
   "source": [
    "data=\"data/annual-temperature-anomalies.csv\"\n",
    "df = pd.read_csv(data)\n",
    "df.head()"
   ]
  }
 ],
 "metadata": {
  "kernelspec": {
   "display_name": ".climate",
   "language": "python",
   "name": "python3"
  },
  "language_info": {
   "codemirror_mode": {
    "name": "ipython",
    "version": 3
   },
   "file_extension": ".py",
   "mimetype": "text/x-python",
   "name": "python",
   "nbconvert_exporter": "python",
   "pygments_lexer": "ipython3",
   "version": "3.9.12"
  }
 },
 "nbformat": 4,
 "nbformat_minor": 2
}
